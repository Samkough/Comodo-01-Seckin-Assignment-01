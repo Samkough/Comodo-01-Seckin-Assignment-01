{
 "cells": [
  {
   "cell_type": "markdown",
   "metadata": {},
   "source": [
    "# Data Manipulation\n",
    "## Sammy Samkough\n",
    "\n",
    "#### Summary\n",
    "In this notebook I'll be experimenting and playing around with how to work with sqlite3/csv and python in Jupyter. I'll be trying to see how I can represent it, integrate it with algorithms, and so on."
   ]
  },
  {
   "cell_type": "code",
   "execution_count": 11,
   "metadata": {},
   "outputs": [
    {
     "name": "stdout",
     "output_type": "stream",
     "text": [
      "Row 1:\n",
      " (118783, 6976, 'Comp450942', 'Comp829338', 6, 'Port03137', 445, 1665, 1108, 300810, 250408) \n",
      "\n",
      "Row 2:\n",
      " (118785, 14178, 'IP564116', 'Comp141988', 17, 5060, 5060, 1866, 0, 1477041, 0) \n",
      "\n",
      "Row 3:\n",
      " (118785, 28147, 'IP564116', 'Comp141988', 17, 5060, 5060, 3326, 0, 2656305, 0) \n",
      "\n",
      "Row 4:\n",
      " (118785, 48507, 'IP564116', 'Comp141988', 17, 5060, 5060, 5423, 0, 4388449, 0) \n",
      "\n",
      "Row 5:\n",
      " (118785, 63173, 'IP564116', 'Comp141988', 17, 5060, 5060, 7061, 0, 5745536, 0) \n",
      "\n"
     ]
    }
   ],
   "source": [
    "import sqlite3\n",
    "\n",
    "conn = sqlite3.connect(\"database-500.db\")\n",
    "cur = conn.cursor()\n",
    "cur.execute(\"select * from seckin limit 5;\")\n",
    "results = cur.fetchall()\n",
    "\n",
    "j = 0\n",
    "for i in results:\n",
    "    j += 1\n",
    "    print(\"Row\", str(j) + \":\\n\", i, \"\\n\")\n",
    "\n",
    "cur.close()\n",
    "conn.close()"
   ]
  },
  {
   "cell_type": "code",
   "execution_count": 34,
   "metadata": {},
   "outputs": [
    {
     "data": {
      "text/html": [
       "<div>\n",
       "<style scoped>\n",
       "    .dataframe tbody tr th:only-of-type {\n",
       "        vertical-align: middle;\n",
       "    }\n",
       "\n",
       "    .dataframe tbody tr th {\n",
       "        vertical-align: top;\n",
       "    }\n",
       "\n",
       "    .dataframe thead th {\n",
       "        text-align: right;\n",
       "    }\n",
       "</style>\n",
       "<table border=\"1\" class=\"dataframe\">\n",
       "  <thead>\n",
       "    <tr style=\"text-align: right;\">\n",
       "      <th></th>\n",
       "      <th>Time</th>\n",
       "      <th>Duration</th>\n",
       "      <th>SrcDevice</th>\n",
       "      <th>DstDevice</th>\n",
       "      <th>Protocol</th>\n",
       "      <th>SrcPort</th>\n",
       "      <th>DstPort</th>\n",
       "      <th>SrcPackets</th>\n",
       "      <th>DstPackets</th>\n",
       "      <th>SrcBytes</th>\n",
       "      <th>DstBytes</th>\n",
       "    </tr>\n",
       "  </thead>\n",
       "  <tbody>\n",
       "    <tr>\n",
       "      <th>0</th>\n",
       "      <td>118783</td>\n",
       "      <td>6976</td>\n",
       "      <td>Comp450942</td>\n",
       "      <td>Comp829338</td>\n",
       "      <td>6</td>\n",
       "      <td>Port03137</td>\n",
       "      <td>445</td>\n",
       "      <td>1665</td>\n",
       "      <td>1108</td>\n",
       "      <td>300810</td>\n",
       "      <td>250408</td>\n",
       "    </tr>\n",
       "    <tr>\n",
       "      <th>1</th>\n",
       "      <td>118785</td>\n",
       "      <td>14178</td>\n",
       "      <td>IP564116</td>\n",
       "      <td>Comp141988</td>\n",
       "      <td>17</td>\n",
       "      <td>5060</td>\n",
       "      <td>5060</td>\n",
       "      <td>1866</td>\n",
       "      <td>0</td>\n",
       "      <td>1477041</td>\n",
       "      <td>0</td>\n",
       "    </tr>\n",
       "    <tr>\n",
       "      <th>2</th>\n",
       "      <td>118785</td>\n",
       "      <td>28147</td>\n",
       "      <td>IP564116</td>\n",
       "      <td>Comp141988</td>\n",
       "      <td>17</td>\n",
       "      <td>5060</td>\n",
       "      <td>5060</td>\n",
       "      <td>3326</td>\n",
       "      <td>0</td>\n",
       "      <td>2656305</td>\n",
       "      <td>0</td>\n",
       "    </tr>\n",
       "    <tr>\n",
       "      <th>3</th>\n",
       "      <td>118785</td>\n",
       "      <td>48507</td>\n",
       "      <td>IP564116</td>\n",
       "      <td>Comp141988</td>\n",
       "      <td>17</td>\n",
       "      <td>5060</td>\n",
       "      <td>5060</td>\n",
       "      <td>5423</td>\n",
       "      <td>0</td>\n",
       "      <td>4388449</td>\n",
       "      <td>0</td>\n",
       "    </tr>\n",
       "    <tr>\n",
       "      <th>4</th>\n",
       "      <td>118785</td>\n",
       "      <td>63173</td>\n",
       "      <td>IP564116</td>\n",
       "      <td>Comp141988</td>\n",
       "      <td>17</td>\n",
       "      <td>5060</td>\n",
       "      <td>5060</td>\n",
       "      <td>7061</td>\n",
       "      <td>0</td>\n",
       "      <td>5745536</td>\n",
       "      <td>0</td>\n",
       "    </tr>\n",
       "  </tbody>\n",
       "</table>\n",
       "</div>"
      ],
      "text/plain": [
       "     Time  Duration   SrcDevice   DstDevice  Protocol    SrcPort  DstPort  \\\n",
       "0  118783      6976  Comp450942  Comp829338         6  Port03137      445   \n",
       "1  118785     14178    IP564116  Comp141988        17       5060     5060   \n",
       "2  118785     28147    IP564116  Comp141988        17       5060     5060   \n",
       "3  118785     48507    IP564116  Comp141988        17       5060     5060   \n",
       "4  118785     63173    IP564116  Comp141988        17       5060     5060   \n",
       "\n",
       "   SrcPackets  DstPackets  SrcBytes  DstBytes  \n",
       "0        1665        1108    300810    250408  \n",
       "1        1866           0   1477041         0  \n",
       "2        3326           0   2656305         0  \n",
       "3        5423           0   4388449         0  \n",
       "4        7061           0   5745536         0  "
      ]
     },
     "execution_count": 34,
     "metadata": {},
     "output_type": "execute_result"
    }
   ],
   "source": [
    "import pandas as pd\n",
    "import sqlite3\n",
    "\n",
    "conn = sqlite3.connect(\"database-500.db\")\n",
    "df = pd.read_sql_query(\"select * from seckin limit 5\", conn)\n",
    "df"
   ]
  },
  {
   "cell_type": "code",
   "execution_count": 35,
   "metadata": {
    "scrolled": true
   },
   "outputs": [
    {
     "data": {
      "text/plain": [
       "0    118783\n",
       "1    118785\n",
       "2    118785\n",
       "3    118785\n",
       "4    118785\n",
       "Name: Time, dtype: int64"
      ]
     },
     "execution_count": 35,
     "metadata": {},
     "output_type": "execute_result"
    }
   ],
   "source": [
    "import pandas as pd\n",
    "import sqlite3\n",
    "\n",
    "conn = sqlite3.connect(\"database-500.db\")\n",
    "df = pd.read_sql_query(\"select * from seckin limit 5\", conn)\n",
    "df[\"Time\"]"
   ]
  },
  {
   "cell_type": "code",
   "execution_count": 45,
   "metadata": {
    "scrolled": true
   },
   "outputs": [
    {
     "data": {
      "image/png": "[encoded data removed]",
      "text/plain": [
       "<matplotlib.figure.Figure at 0x274bf301518>"
      ]
     },
     "metadata": {},
     "output_type": "display_data"
    }
   ],
   "source": [
    "import matplotlib.pyplot as plt\n",
    "cur = conn.cursor()\n",
    "cur.execute(\"select * from seckin limit 2;\")\n",
    "results = cur.fetchall()\n",
    "\n",
    "plt.plot(results)\n",
    "\n",
    "plt.show()"
   ]
  },
  {
   "cell_type": "code",
   "execution_count": 87,
   "metadata": {
    "scrolled": true
   },
   "outputs": [
    {
     "name": "stdout",
     "output_type": "stream",
     "text": [
      "(5, 11)\n"
     ]
    },
    {
     "data": {
      "text/plain": [
       "<matplotlib.collections.PathCollection at 0x274bf07f0f0>"
      ]
     },
     "execution_count": 87,
     "metadata": {},
     "output_type": "execute_result"
    },
    {
     "data": {
      "image/png": "[encoded data removed]",
      "text/plain": [
       "<matplotlib.figure.Figure at 0x274bf2d27b8>"
      ]
     },
     "metadata": {},
     "output_type": "display_data"
    }
   ],
   "source": [
    "import pandas as pd\n",
    "import numpy as np\n",
    "import matplotlib.pyplot as plt\n",
    "import warnings; warnings.simplefilter('ignore')\n",
    "from sklearn import metrics\n",
    "%matplotlib inline\n",
    "\n",
    "data = pd.read_csv(r'C:\\Users\\sammy\\Desktop\\DOWNLOADS\\PROGRAMMING\\Comodo\\_Data-Analysis\\netflow_day-02.csv',sep=\",\",index_col=False, nrows=5)\n",
    "print(data.shape)\n",
    "data.head()\n",
    "\n",
    "f1 = data['srcBytes'].values\n",
    "f2 = data['dstBytes'].values\n",
    "X = np.array(list(zip(f1, f2)))\n",
    "plt.scatter(f1, f2, c='black', s=7)"
   ]
  },
  {
   "cell_type": "code",
   "execution_count": 90,
   "metadata": {},
   "outputs": [
    {
     "name": "stdout",
     "output_type": "stream",
     "text": [
      "Cluster centers of columns:\n",
      "\n",
      "   srcPackets  dstPackets  srcBytes  dstBytes\n",
      "0    0.001345    0.000251  0.002028  0.002510\n",
      "1    0.999883    0.999991  0.999874  0.999962\n",
      "2    0.145054    0.057038  0.242214  0.107437\n"
     ]
    }
   ],
   "source": [
    "import pandas as pd\n",
    "import numpy as np\n",
    "import matplotlib.pyplot as plt\n",
    "import warnings; warnings.simplefilter('ignore')\n",
    "from sklearn import metrics\n",
    "%matplotlib inline\n",
    "\n",
    "data = pd.read_csv(r'C:\\Users\\sammy\\Desktop\\DOWNLOADS\\PROGRAMMING\\Comodo\\_Data-Analysis\\netflow_day-02.csv',sep=\",\",index_col=False, nrows=500)\n",
    "data.head(500)\n",
    "\n",
    "X = data[['srcPackets','dstPackets','srcBytes','dstBytes']]\n",
    "\n",
    "from sklearn.preprocessing import MinMaxScaler\n",
    "scaler = MinMaxScaler()\n",
    "X_normalized = pd.DataFrame(scaler.fit_transform(X))\n",
    "\n",
    "X_normalized.columns = ['srcPackets','dstPackets','srcBytes','dstBytes']\n",
    "\n",
    "from sklearn.cluster import KMeans\n",
    "kmeans = KMeans(n_clusters=3)\n",
    "kmeans.fit(X_normalized)\n",
    "y_kmeans = kmeans.predict(X_normalized)\n",
    "\n",
    "centers = kmeans.cluster_centers_\n",
    "print('Cluster centers of columns:\\n')\n",
    "print(pd.DataFrame(centers,columns= ['srcPackets','dstPackets','srcBytes','dstBytes']))"
   ]
  }
 ],
 "metadata": {
  "kernelspec": {
   "display_name": "Python 3",
   "language": "python",
   "name": "python3"
  },
  "language_info": {
   "codemirror_mode": {
    "name": "ipython",
    "version": 3
   },
   "file_extension": ".py",
   "mimetype": "text/x-python",
   "name": "python",
   "nbconvert_exporter": "python",
   "pygments_lexer": "ipython3",
   "version": "3.6.4"
  }
 },
 "nbformat": 4,
 "nbformat_minor": 2
}
